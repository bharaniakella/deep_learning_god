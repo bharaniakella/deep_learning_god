{
  "nbformat": 4,
  "nbformat_minor": 0,
  "metadata": {
    "colab": {
      "provenance": [],
      "authorship_tag": "ABX9TyNq+67PWud+SiOYD5DkUMOJ",
      "include_colab_link": true
    },
    "kernelspec": {
      "name": "python3",
      "display_name": "Python 3"
    },
    "language_info": {
      "name": "python"
    }
  },
  "cells": [
    {
      "cell_type": "markdown",
      "metadata": {
        "id": "view-in-github",
        "colab_type": "text"
      },
      "source": [
        "<a href=\"https://colab.research.google.com/github/bharaniakella/deep_learning_god/blob/main/entropy_cross_entropy.ipynb\" target=\"_parent\"><img src=\"https://colab.research.google.com/assets/colab-badge.svg\" alt=\"Open In Colab\"/></a>"
      ]
    },
    {
      "cell_type": "code",
      "source": [
        "#entropy provides variability in data. High entropy means more variability, low entropy means more redundant data\n",
        "#entropy is maximum at probability of 0.5"
      ],
      "metadata": {
        "id": "8jvk18pAh08K"
      },
      "execution_count": null,
      "outputs": []
    },
    {
      "cell_type": "code",
      "execution_count": 1,
      "metadata": {
        "id": "mnlBRhbchnej"
      },
      "outputs": [],
      "source": [
        "import numpy as np\n",
        "from torch.nn import functional as F"
      ]
    },
    {
      "cell_type": "code",
      "source": [
        "#binary entropy with numpy\n",
        "\n",
        "p=0.25\n",
        "\n",
        "H=-((p*np.log(p))+((1-p)*np.log(1-p)))\n",
        "print(H)"
      ],
      "metadata": {
        "colab": {
          "base_uri": "https://localhost:8080/"
        },
        "id": "Xq5K79EZiWdG",
        "outputId": "c4f1d359-38b9-4823-9ed2-5819dc76779f"
      },
      "execution_count": 10,
      "outputs": [
        {
          "output_type": "stream",
          "name": "stdout",
          "text": [
            "0.5623351446188083\n"
          ]
        }
      ]
    },
    {
      "cell_type": "code",
      "source": [
        "#binary entropy with for loop\n",
        "\n",
        "x=[0.25,0.75]\n",
        "H=0\n",
        "for p in x:\n",
        "  H-=p*np.log(p)\n",
        "\n",
        "print(H)"
      ],
      "metadata": {
        "colab": {
          "base_uri": "https://localhost:8080/"
        },
        "id": "ktYXxmnOhuwL",
        "outputId": "0599b1c9-2bff-4abe-eac7-b7f0fce82b20"
      },
      "execution_count": 8,
      "outputs": [
        {
          "output_type": "stream",
          "name": "stdout",
          "text": [
            "0.5623351446188083\n"
          ]
        }
      ]
    },
    {
      "cell_type": "code",
      "source": [
        "#cross entropy\n",
        "\n",
        "p=[0.00001,1]\n",
        "q=[0.25,0.75]\n",
        "\n",
        "H=0\n",
        "for i in range(len(p)):\n",
        "  H-=p[i]*np.log(q[i])\n",
        "\n",
        "print(H)"
      ],
      "metadata": {
        "colab": {
          "base_uri": "https://localhost:8080/"
        },
        "id": "E8H96erSiSYx",
        "outputId": "21724b16-8f24-4213-80fd-b1925bfd34bf"
      },
      "execution_count": 19,
      "outputs": [
        {
          "output_type": "stream",
          "name": "stdout",
          "text": [
            "0.2876959353953921\n"
          ]
        }
      ]
    },
    {
      "cell_type": "code",
      "source": [
        "#binary cross entropy\n",
        "H=-(p[0]*np.log(q[0]) + p[1]*np.log(q[1]))\n",
        "\n",
        "print(H)"
      ],
      "metadata": {
        "colab": {
          "base_uri": "https://localhost:8080/"
        },
        "id": "e-KWTpMYjt0W",
        "outputId": "2fb69718-510d-44a8-ec55-f6f512125f55"
      },
      "execution_count": 23,
      "outputs": [
        {
          "output_type": "stream",
          "name": "stdout",
          "text": [
            "0.2876959353953921\n"
          ]
        }
      ]
    },
    {
      "cell_type": "code",
      "source": [],
      "metadata": {
        "id": "ojfjZBUMkKhB"
      },
      "execution_count": null,
      "outputs": []
    }
  ]
}