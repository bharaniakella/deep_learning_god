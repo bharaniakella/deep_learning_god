{
  "nbformat": 4,
  "nbformat_minor": 0,
  "metadata": {
    "colab": {
      "provenance": [],
      "authorship_tag": "ABX9TyMs4EBp36Wmiw0k26TPg/N0",
      "include_colab_link": true
    },
    "kernelspec": {
      "name": "python3",
      "display_name": "Python 3"
    },
    "language_info": {
      "name": "python"
    }
  },
  "cells": [
    {
      "cell_type": "markdown",
      "metadata": {
        "id": "view-in-github",
        "colab_type": "text"
      },
      "source": [
        "<a href=\"https://colab.research.google.com/github/bharaniakella/deep_learning_god/blob/main/dot_product.ipynb\" target=\"_parent\"><img src=\"https://colab.research.google.com/assets/colab-badge.svg\" alt=\"Open In Colab\"/></a>"
      ]
    },
    {
      "cell_type": "markdown",
      "source": [
        "#####Dot product is used to find similarities between objects. It is back-bone behind correlation"
      ],
      "metadata": {
        "id": "gUgH0FNFQGT0"
      }
    },
    {
      "cell_type": "code",
      "execution_count": 2,
      "metadata": {
        "id": "GHUIfGLFPYSB"
      },
      "outputs": [],
      "source": [
        "import numpy as np\n",
        "import torch\n"
      ]
    },
    {
      "cell_type": "code",
      "source": [
        "arr1=np.array([1,2,3,4])\n",
        "arr2=np.array([0,1,0,-1])"
      ],
      "metadata": {
        "id": "2Dj6xUuPPkXy"
      },
      "execution_count": 3,
      "outputs": []
    },
    {
      "cell_type": "code",
      "source": [
        "#dot product with numpy\n",
        "\n",
        "print(np.dot(arr1,arr2))\n",
        "\n",
        "print(np.sum(arr1*arr2))"
      ],
      "metadata": {
        "colab": {
          "base_uri": "https://localhost:8080/"
        },
        "id": "PL7C39GmPqbo",
        "outputId": "967d746e-3cec-4a26-9c2e-5c70b9317135"
      },
      "execution_count": 8,
      "outputs": [
        {
          "output_type": "stream",
          "name": "stdout",
          "text": [
            "-2\n",
            "-2\n"
          ]
        }
      ]
    },
    {
      "cell_type": "code",
      "source": [
        "#dot product with pytorch\n",
        "\n",
        "t1=torch.tensor([1,2,3,4])\n",
        "t2=torch.tensor([0,1,0,-1])\n",
        "\n",
        "print(torch.dot(t1,t2))\n",
        "print(torch.sum(t1*t2))"
      ],
      "metadata": {
        "colab": {
          "base_uri": "https://localhost:8080/"
        },
        "id": "6qJEvrmBP0ON",
        "outputId": "dfd13f23-584c-4ce6-865a-f7219766d0ec"
      },
      "execution_count": 13,
      "outputs": [
        {
          "output_type": "stream",
          "name": "stdout",
          "text": [
            "tensor(-2)\n",
            "tensor(-2)\n"
          ]
        }
      ]
    },
    {
      "cell_type": "code",
      "source": [],
      "metadata": {
        "id": "3AW1F-stQcef"
      },
      "execution_count": null,
      "outputs": []
    }
  ]
}