{
  "nbformat": 4,
  "nbformat_minor": 0,
  "metadata": {
    "colab": {
      "provenance": [],
      "authorship_tag": "ABX9TyMAxAm9bu9ucavSnAYtBQG0",
      "include_colab_link": true
    },
    "kernelspec": {
      "name": "python3",
      "display_name": "Python 3"
    },
    "language_info": {
      "name": "python"
    }
  },
  "cells": [
    {
      "cell_type": "markdown",
      "metadata": {
        "id": "view-in-github",
        "colab_type": "text"
      },
      "source": [
        "<a href=\"https://colab.research.google.com/github/bharaniakella/deep_learning_god/blob/main/matrix_multiplication.ipynb\" target=\"_parent\"><img src=\"https://colab.research.google.com/assets/colab-badge.svg\" alt=\"Open In Colab\"/></a>"
      ]
    },
    {
      "cell_type": "code",
      "source": [
        "#concept for matrix multiplication ->\n",
        "# m*n & n*k are two arrays -> matmul result -> m*K"
      ],
      "metadata": {
        "id": "e2Pd1vBsTZdD"
      },
      "execution_count": 2,
      "outputs": []
    },
    {
      "cell_type": "code",
      "execution_count": 1,
      "metadata": {
        "id": "vG6BjFrxTNeY"
      },
      "outputs": [],
      "source": [
        "import numpy as np\n",
        "import torch"
      ]
    },
    {
      "cell_type": "code",
      "source": [
        "#implementing matrix multiplication with numpy\n",
        "\n",
        "arr1=np.random.randn(3,4)\n",
        "arr2=np.random.randn(4,6)"
      ],
      "metadata": {
        "id": "QCMOobfhTSbz"
      },
      "execution_count": 3,
      "outputs": []
    },
    {
      "cell_type": "code",
      "source": [
        "print(arr1),print(\"\\n\")\n",
        "print(arr2),print(\"\\n\")\n",
        "print(arr1@arr2),print(\"\\n\")\n",
        "print(np.matmul(arr1,arr2))"
      ],
      "metadata": {
        "colab": {
          "base_uri": "https://localhost:8080/"
        },
        "id": "m5JublfeTstZ",
        "outputId": "4dced7fd-993f-401a-8801-9bff0205e230"
      },
      "execution_count": 11,
      "outputs": [
        {
          "output_type": "stream",
          "name": "stdout",
          "text": [
            "[[-0.47289449  1.66209707 -0.04936826 -1.34154161]\n",
            " [ 0.75461023  1.07142399  0.11827228 -0.33883516]\n",
            " [ 1.19449724 -0.62333769  0.37280281  0.14794192]]\n",
            "\n",
            "\n",
            "[[ 0.4832927  -0.59688425  1.67084247  0.31776535  0.0496692  -0.42322814]\n",
            " [ 0.94066181  0.94549557  1.47074075 -1.24534429 -0.26841985  0.71368154]\n",
            " [ 0.11059534  0.35378757 -1.033833    0.2064972   0.5534825   0.23992277]\n",
            " [ 0.99065835  0.02975464  1.87750898 -0.88312757 -0.79335069 -2.69814573]]\n",
            "\n",
            "\n",
            "[[ 4.55485459e-04  1.79638574e+00 -8.13336193e-01 -1.04559460e+00\n",
            "   5.67360354e-01  4.99418044e+00]\n",
            " [ 1.04995572e+00  5.94373030e-01  2.07818190e+00 -7.70845201e-01\n",
            "   8.41661624e-02  1.38788609e+00]\n",
            " [ 1.78731983e-01 -1.16604465e+00  9.71395019e-01  1.10217101e+00\n",
            "   3.15615928e-01 -1.26013442e+00]]\n",
            "\n",
            "\n",
            "[[ 4.55485459e-04  1.79638574e+00 -8.13336193e-01 -1.04559460e+00\n",
            "   5.67360354e-01  4.99418044e+00]\n",
            " [ 1.04995572e+00  5.94373030e-01  2.07818190e+00 -7.70845201e-01\n",
            "   8.41661624e-02  1.38788609e+00]\n",
            " [ 1.78731983e-01 -1.16604465e+00  9.71395019e-01  1.10217101e+00\n",
            "   3.15615928e-01 -1.26013442e+00]]\n"
          ]
        }
      ]
    },
    {
      "cell_type": "code",
      "source": [
        "#implementing matrix multiplication with pytorch\n",
        "\n",
        "t1=torch.randn(3,4)\n",
        "t2=torch.randn(4,6)\n",
        "\n",
        "print(t1),print(\"\\n\")\n",
        "print(t2),print(\"\\n\")\n",
        "print(t1@t2),print(\"\\n\")\n",
        "print(torch.matmul(t1,t2)),print(\"\\n\")"
      ],
      "metadata": {
        "colab": {
          "base_uri": "https://localhost:8080/"
        },
        "id": "cG_br0Y3Ty9H",
        "outputId": "22fa83f3-0c19-4743-c600-fc609b8ff714"
      },
      "execution_count": 9,
      "outputs": [
        {
          "output_type": "stream",
          "name": "stdout",
          "text": [
            "tensor([[ 0.3532, -0.1139, -0.1373,  0.3891],\n",
            "        [ 2.2735, -1.1477,  1.5201,  0.6025],\n",
            "        [ 1.8079,  1.1395, -1.0679, -0.7097]])\n",
            "\n",
            "\n",
            "tensor([[ 1.3790,  0.4281,  0.8294, -1.8974,  1.0311, -0.4200],\n",
            "        [ 0.5116,  0.3011,  0.1965,  1.8192, -0.7727,  0.1098],\n",
            "        [-0.5043, -0.4659, -1.0550,  0.4236, -2.2059,  2.3332],\n",
            "        [-1.1974, -2.3941, -0.5856, -0.3824, -0.3060, -1.3190]])\n",
            "\n",
            "\n",
            "tensor([[ 0.0321, -0.7506,  0.1875, -1.0841,  0.6358, -0.9943],\n",
            "        [ 1.0600, -1.5229, -0.2964, -5.9882, -0.3065,  1.6711],\n",
            "        [ 4.4642,  3.3138,  3.2655, -1.5383,  3.5565, -2.1896]])\n",
            "\n",
            "\n",
            "tensor([[ 0.0321, -0.7506,  0.1875, -1.0841,  0.6358, -0.9943],\n",
            "        [ 1.0600, -1.5229, -0.2964, -5.9882, -0.3065,  1.6711],\n",
            "        [ 4.4642,  3.3138,  3.2655, -1.5383,  3.5565, -2.1896]])\n",
            "\n",
            "\n"
          ]
        },
        {
          "output_type": "execute_result",
          "data": {
            "text/plain": [
              "(None, None)"
            ]
          },
          "metadata": {},
          "execution_count": 9
        }
      ]
    },
    {
      "cell_type": "code",
      "source": [],
      "metadata": {
        "id": "2CjgT-h2UmrS"
      },
      "execution_count": null,
      "outputs": []
    }
  ]
}